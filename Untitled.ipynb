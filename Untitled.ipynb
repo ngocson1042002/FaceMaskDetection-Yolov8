{
 "cells": [
  {
   "cell_type": "code",
   "execution_count": 1,
   "id": "3640d15e",
   "metadata": {},
   "outputs": [
    {
     "name": "stdout",
     "output_type": "stream",
     "text": [
      "Collecting ultralytics\n",
      "  Using cached ultralytics-8.0.34-py3-none-any.whl (276 kB)\n",
      "Requirement already satisfied: scipy>=1.4.1 in d:\\anaconda3\\lib\\site-packages (from ultralytics) (1.7.3)\n",
      "Requirement already satisfied: tqdm>=4.64.0 in d:\\anaconda3\\lib\\site-packages (from ultralytics) (4.64.0)\n",
      "Requirement already satisfied: wheel>=0.38.0 in d:\\anaconda3\\lib\\site-packages (from ultralytics) (0.38.4)\n",
      "Collecting torchvision>=0.8.1\n",
      "  Using cached torchvision-0.14.1-cp39-cp39-win_amd64.whl (1.1 MB)\n",
      "Requirement already satisfied: opencv-python>=4.6.0 in d:\\anaconda3\\lib\\site-packages (from ultralytics) (4.7.0.68)\n",
      "Requirement already satisfied: psutil in d:\\anaconda3\\lib\\site-packages (from ultralytics) (5.8.0)\n",
      "Requirement already satisfied: pandas>=1.1.4 in d:\\anaconda3\\lib\\site-packages (from ultralytics) (1.4.2)\n",
      "Requirement already satisfied: ipython in d:\\anaconda3\\lib\\site-packages (from ultralytics) (8.2.0)\n",
      "Requirement already satisfied: sentry-sdk in d:\\anaconda3\\lib\\site-packages (from ultralytics) (1.15.0)\n",
      "Requirement already satisfied: seaborn>=0.11.0 in d:\\anaconda3\\lib\\site-packages (from ultralytics) (0.11.2)\n",
      "Requirement already satisfied: matplotlib>=3.2.2 in d:\\anaconda3\\lib\\site-packages (from ultralytics) (3.5.1)\n",
      "Requirement already satisfied: thop>=0.1.1 in d:\\anaconda3\\lib\\site-packages (from ultralytics) (0.1.1.post2209072238)\n",
      "Requirement already satisfied: PyYAML>=5.3.1 in d:\\anaconda3\\lib\\site-packages (from ultralytics) (5.4.1)\n",
      "Requirement already satisfied: requests>=2.23.0 in d:\\anaconda3\\lib\\site-packages (from ultralytics) (2.27.1)\n",
      "Requirement already satisfied: tensorboard>=2.4.1 in d:\\anaconda3\\lib\\site-packages (from ultralytics) (2.11.2)\n",
      "Requirement already satisfied: Pillow>=7.1.2 in d:\\anaconda3\\lib\\site-packages (from ultralytics) (9.0.1)\n",
      "Requirement already satisfied: numpy>=1.18.5 in d:\\anaconda3\\lib\\site-packages (from ultralytics) (1.21.5)\n",
      "Requirement already satisfied: torch>=1.7.0 in d:\\anaconda3\\lib\\site-packages (from ultralytics) (1.13.1)\n",
      "Requirement already satisfied: cycler>=0.10 in d:\\anaconda3\\lib\\site-packages (from matplotlib>=3.2.2->ultralytics) (0.11.0)\n",
      "Requirement already satisfied: pyparsing>=2.2.1 in d:\\anaconda3\\lib\\site-packages (from matplotlib>=3.2.2->ultralytics) (3.0.4)\n",
      "Requirement already satisfied: fonttools>=4.22.0 in d:\\anaconda3\\lib\\site-packages (from matplotlib>=3.2.2->ultralytics) (4.25.0)\n",
      "Requirement already satisfied: kiwisolver>=1.0.1 in d:\\anaconda3\\lib\\site-packages (from matplotlib>=3.2.2->ultralytics) (1.3.2)\n",
      "Requirement already satisfied: python-dateutil>=2.7 in d:\\anaconda3\\lib\\site-packages (from matplotlib>=3.2.2->ultralytics) (2.8.2)\n",
      "Requirement already satisfied: packaging>=20.0 in d:\\anaconda3\\lib\\site-packages (from matplotlib>=3.2.2->ultralytics) (21.3)\n",
      "Requirement already satisfied: pytz>=2020.1 in d:\\anaconda3\\lib\\site-packages (from pandas>=1.1.4->ultralytics) (2021.3)\n",
      "Requirement already satisfied: certifi>=2017.4.17 in d:\\anaconda3\\lib\\site-packages (from requests>=2.23.0->ultralytics) (2021.10.8)\n",
      "Requirement already satisfied: idna<4,>=2.5 in d:\\anaconda3\\lib\\site-packages (from requests>=2.23.0->ultralytics) (3.3)\n",
      "Requirement already satisfied: urllib3<1.27,>=1.21.1 in d:\\anaconda3\\lib\\site-packages (from requests>=2.23.0->ultralytics) (1.26.14)\n",
      "Requirement already satisfied: charset-normalizer~=2.0.0 in d:\\anaconda3\\lib\\site-packages (from requests>=2.23.0->ultralytics) (2.0.4)\n",
      "Requirement already satisfied: tensorboard-plugin-wit>=1.6.0 in d:\\anaconda3\\lib\\site-packages (from tensorboard>=2.4.1->ultralytics) (1.8.1)\n",
      "Requirement already satisfied: markdown>=2.6.8 in d:\\anaconda3\\lib\\site-packages (from tensorboard>=2.4.1->ultralytics) (3.3.4)\n",
      "Requirement already satisfied: google-auth<3,>=1.6.3 in d:\\anaconda3\\lib\\site-packages (from tensorboard>=2.4.1->ultralytics) (1.33.0)\n",
      "Requirement already satisfied: absl-py>=0.4 in d:\\anaconda3\\lib\\site-packages (from tensorboard>=2.4.1->ultralytics) (1.4.0)\n",
      "Requirement already satisfied: werkzeug>=1.0.1 in d:\\anaconda3\\lib\\site-packages (from tensorboard>=2.4.1->ultralytics) (2.0.3)\n",
      "Requirement already satisfied: grpcio>=1.24.3 in d:\\anaconda3\\lib\\site-packages (from tensorboard>=2.4.1->ultralytics) (1.42.0)\n",
      "Requirement already satisfied: tensorboard-data-server<0.7.0,>=0.6.0 in d:\\anaconda3\\lib\\site-packages (from tensorboard>=2.4.1->ultralytics) (0.6.1)\n",
      "Requirement already satisfied: google-auth-oauthlib<0.5,>=0.4.1 in d:\\anaconda3\\lib\\site-packages (from tensorboard>=2.4.1->ultralytics) (0.4.6)\n",
      "Requirement already satisfied: protobuf<4,>=3.9.2 in d:\\anaconda3\\lib\\site-packages (from tensorboard>=2.4.1->ultralytics) (3.19.1)\n",
      "Requirement already satisfied: setuptools>=41.0.0 in d:\\anaconda3\\lib\\site-packages (from tensorboard>=2.4.1->ultralytics) (61.2.0)\n",
      "Requirement already satisfied: typing-extensions in d:\\anaconda3\\lib\\site-packages (from torch>=1.7.0->ultralytics) (4.1.1)\n",
      "Requirement already satisfied: colorama in d:\\anaconda3\\lib\\site-packages (from tqdm>=4.64.0->ultralytics) (0.4.4)\n",
      "Requirement already satisfied: stack-data in d:\\anaconda3\\lib\\site-packages (from ipython->ultralytics) (0.2.0)\n",
      "Requirement already satisfied: matplotlib-inline in d:\\anaconda3\\lib\\site-packages (from ipython->ultralytics) (0.1.2)\n",
      "Requirement already satisfied: prompt-toolkit!=3.0.0,!=3.0.1,<3.1.0,>=2.0.0 in d:\\anaconda3\\lib\\site-packages (from ipython->ultralytics) (3.0.20)\n",
      "Requirement already satisfied: pygments>=2.4.0 in d:\\anaconda3\\lib\\site-packages (from ipython->ultralytics) (2.11.2)\n",
      "Requirement already satisfied: jedi>=0.16 in d:\\anaconda3\\lib\\site-packages (from ipython->ultralytics) (0.18.1)\n",
      "Requirement already satisfied: traitlets>=5 in d:\\anaconda3\\lib\\site-packages (from ipython->ultralytics) (5.1.1)\n",
      "Requirement already satisfied: decorator in d:\\anaconda3\\lib\\site-packages (from ipython->ultralytics) (5.1.1)\n",
      "Requirement already satisfied: pickleshare in d:\\anaconda3\\lib\\site-packages (from ipython->ultralytics) (0.7.5)\n",
      "Requirement already satisfied: backcall in d:\\anaconda3\\lib\\site-packages (from ipython->ultralytics) (0.2.0)\n",
      "Requirement already satisfied: pyasn1-modules>=0.2.1 in d:\\anaconda3\\lib\\site-packages (from google-auth<3,>=1.6.3->tensorboard>=2.4.1->ultralytics) (0.2.8)\n",
      "Requirement already satisfied: rsa<5,>=3.1.4 in d:\\anaconda3\\lib\\site-packages (from google-auth<3,>=1.6.3->tensorboard>=2.4.1->ultralytics) (4.7.2)\n",
      "Requirement already satisfied: six>=1.9.0 in d:\\anaconda3\\lib\\site-packages (from google-auth<3,>=1.6.3->tensorboard>=2.4.1->ultralytics) (1.16.0)\n",
      "Requirement already satisfied: cachetools<5.0,>=2.0.0 in d:\\anaconda3\\lib\\site-packages (from google-auth<3,>=1.6.3->tensorboard>=2.4.1->ultralytics) (4.2.2)\n",
      "Requirement already satisfied: requests-oauthlib>=0.7.0 in d:\\anaconda3\\lib\\site-packages (from google-auth-oauthlib<0.5,>=0.4.1->tensorboard>=2.4.1->ultralytics) (1.3.1)\n",
      "Requirement already satisfied: parso<0.9.0,>=0.8.0 in d:\\anaconda3\\lib\\site-packages (from jedi>=0.16->ipython->ultralytics) (0.8.3)\n",
      "Requirement already satisfied: wcwidth in d:\\anaconda3\\lib\\site-packages (from prompt-toolkit!=3.0.0,!=3.0.1,<3.1.0,>=2.0.0->ipython->ultralytics) (0.2.5)\n",
      "Requirement already satisfied: asttokens in d:\\anaconda3\\lib\\site-packages (from stack-data->ipython->ultralytics) (2.0.5)\n",
      "Requirement already satisfied: executing in d:\\anaconda3\\lib\\site-packages (from stack-data->ipython->ultralytics) (0.8.3)\n",
      "Requirement already satisfied: pure-eval in d:\\anaconda3\\lib\\site-packages (from stack-data->ipython->ultralytics) (0.2.2)\n",
      "Requirement already satisfied: pyasn1<0.5.0,>=0.4.6 in d:\\anaconda3\\lib\\site-packages (from pyasn1-modules>=0.2.1->google-auth<3,>=1.6.3->tensorboard>=2.4.1->ultralytics) (0.4.8)\n",
      "Requirement already satisfied: oauthlib>=3.0.0 in d:\\anaconda3\\lib\\site-packages (from requests-oauthlib>=0.7.0->google-auth-oauthlib<0.5,>=0.4.1->tensorboard>=2.4.1->ultralytics) (3.2.2)\n",
      "Installing collected packages: torchvision, ultralytics\n",
      "Successfully installed torchvision-0.14.1 ultralytics-8.0.34\n",
      "Note: you may need to restart the kernel to use updated packages.\n"
     ]
    }
   ],
   "source": [
    "pip install ultralytics"
   ]
  },
  {
   "cell_type": "code",
   "execution_count": 2,
   "id": "5d77fd0d",
   "metadata": {},
   "outputs": [],
   "source": [
    "from ultralytics import YOLO"
   ]
  },
  {
   "cell_type": "code",
   "execution_count": 10,
   "id": "e4b9b810",
   "metadata": {},
   "outputs": [],
   "source": [
    "model = YOLO(\"D:\\\\FaceMaskDetection_Yolov8\\\\weights\\\\best.pt\")"
   ]
  },
  {
   "cell_type": "code",
   "execution_count": 12,
   "id": "82138e8a",
   "metadata": {
    "scrolled": false
   },
   "outputs": [
    {
     "name": "stderr",
     "output_type": "stream",
     "text": [
      "\n",
      "image 1/1 D:\\ngocson1042002.github.io\\img\\img2.jpg: 640x448 3 WithoutMasks, 92.7ms\n",
      "Speed: 2.0ms pre-process, 92.7ms inference, 0.0ms postprocess per image at shape (1, 3, 640, 640)\n"
     ]
    },
    {
     "name": "stdout",
     "output_type": "stream",
     "text": [
      "[Ultralytics YOLO <class 'ultralytics.yolo.engine.results.Boxes'> masks\n",
      "type: <class 'torch.Tensor'>\n",
      "shape: torch.Size([3, 6])\n",
      "dtype: torch.float32\n",
      " + tensor([[0.00000e+00, 0.00000e+00, 8.64000e+02, 5.50000e+02, 9.50183e-01, 1.00000e+00],\n",
      "        [0.00000e+00, 5.03000e+02, 7.17000e+02, 1.27900e+03, 9.19568e-01, 1.00000e+00],\n",
      "        [7.20000e+02, 5.31000e+02, 8.64000e+02, 1.27800e+03, 3.11835e-01, 1.00000e+00]])]\n"
     ]
    }
   ],
   "source": [
    "results = model(\"D:\\\\ngocson1042002.github.io\\\\img\\\\img2.jpg\")  # predict on an image\n",
    "print(results)"
   ]
  },
  {
   "cell_type": "code",
   "execution_count": 55,
   "id": "5e0e9f5f",
   "metadata": {},
   "outputs": [],
   "source": [
    "import prepare_dataset\n",
    "import os\n",
    "import cv2\n",
    "import xml.etree.ElementTree as ET"
   ]
  },
  {
   "cell_type": "code",
   "execution_count": 89,
   "id": "ba87e58c",
   "metadata": {},
   "outputs": [],
   "source": [
    "dir_xml = 'C:\\\\Users\\\\ngocs\\\\Downloads\\\\archive\\\\annotations'\n",
    "dir_img = 'C:\\\\Users\\\\ngocs\\\\Downloads\\\\archive\\\\images'\n",
    "list_name = os.listdir(dir_xml)\n",
    "\n",
    "for xml_file in list_name:\n",
    "    \n",
    "    txt_file = xml_file.split('.')[0] + '.txt'\n",
    "    png_file = xml_file.split('.')[0] + '.png'\n",
    "    tree = ET.parse(os.path.join(dir_xml, xml_file))\n",
    "    root = tree.getroot()\n",
    "\n",
    "    objects = []\n",
    "    for obj in root.findall('object'):\n",
    "        obj_dict = {}\n",
    "        obj_dict['name'] = obj.find('name').text\n",
    "        obj_dict['pose'] = obj.find('pose').text\n",
    "        obj_dict['truncated'] = obj.find('truncated').text\n",
    "        obj_dict['occluded'] = obj.find('occluded').text\n",
    "        obj_dict['difficult'] = obj.find('difficult').text\n",
    "    \n",
    "        bndbox = obj.find('bndbox')\n",
    "        obj_dict['xmin'] = bndbox.find('xmin').text\n",
    "        obj_dict['ymin'] = bndbox.find('ymin').text\n",
    "        obj_dict['xmax'] = bndbox.find('xmax').text\n",
    "        obj_dict['ymax'] = bndbox.find('ymax').text\n",
    "    \n",
    "        objects.append(obj_dict)\n",
    "        \n",
    "    img = cv2.imread(os.path.join(dir_img, png_file))\n",
    "     \n",
    "    data = []\n",
    "    for obj in (objects):\n",
    "        height, width, _ = img.shape\n",
    "    \n",
    "        name = obj['name']\n",
    "        xmin = int(obj['xmin'])\n",
    "        ymin = int(obj['ymin'])\n",
    "        xmax = int(obj['xmax'])\n",
    "        ymax = int(obj['ymax'])\n",
    "    \n",
    "        center_x = (xmin + xmax) / (2 * width)\n",
    "        center_y = (ymin + ymax) / (2 * height)\n",
    "        bbox_width = (xmax - xmin) / width\n",
    "        bbox_height = (ymax - ymin) / height\n",
    "    \n",
    "        t = '0'\n",
    "        if name == 'without_mask':\n",
    "            t = '0'\n",
    "        elif name == 'with_mask':\n",
    "            t = '1'\n",
    "        else:\n",
    "            t = '2'\n",
    "            \n",
    "        data.append([t, ' ', str(center_x), ' ', str(center_y), ' ', str(bbox_width), ' ', str(bbox_height)])\n",
    "        \n",
    "    with open(os.path.join('D:\\FaceMaskDetection_Yolov8\\Dataset\\labels\\Test', txt_file), 'w') as file:\n",
    "        for row in data:\n",
    "            file.write(' '.join(row) + '\\n')\n",
    "        file.close()\n",
    "    data = []\n",
    "    \n",
    "        \n",
    "    "
   ]
  },
  {
   "cell_type": "code",
   "execution_count": 86,
   "id": "d6bd0dad",
   "metadata": {},
   "outputs": [
    {
     "name": "stdout",
     "output_type": "stream",
     "text": [
      "[['0', ' ', '0.18359375', ' ', '0.337431693989071', ' ', '0.05859375', ' ', '0.10109289617486339'], ['1', ' ', '0.4013671875', ' ', '0.3333333333333333', ' ', '0.080078125', ' ', '0.12021857923497267'], ['0', ' ', '0.6689453125', ' ', '0.3155737704918033', ' ', '0.068359375', ' ', '0.13934426229508196']]\n"
     ]
    }
   ],
   "source": [
    "import xml.etree.ElementTree as ET\n",
    "\n",
    "xml_file = 'maksssksksss0.xml'\n",
    "\n",
    "tree = ET.parse(xml_file)\n",
    "root = tree.getroot()\n",
    "\n",
    "objects = []\n",
    "for obj in root.findall('object'):\n",
    "    obj_dict = {}\n",
    "    obj_dict['name'] = obj.find('name').text\n",
    "    obj_dict['pose'] = obj.find('pose').text\n",
    "    obj_dict['truncated'] = obj.find('truncated').text\n",
    "    obj_dict['occluded'] = obj.find('occluded').text\n",
    "    obj_dict['difficult'] = obj.find('difficult').text\n",
    "    \n",
    "    bndbox = obj.find('bndbox')\n",
    "    obj_dict['xmin'] = bndbox.find('xmin').text\n",
    "    obj_dict['ymin'] = bndbox.find('ymin').text\n",
    "    obj_dict['xmax'] = bndbox.find('xmax').text\n",
    "    obj_dict['ymax'] = bndbox.find('ymax').text\n",
    "    \n",
    "    objects.append(obj_dict)\n",
    "\n",
    "data = []\n",
    "\n",
    "for obj in (objects):\n",
    "    img = cv2.imread('maksssksksss0.png')\n",
    "    height, width, _ = img.shape\n",
    "    \n",
    "    name = obj['name']\n",
    "    xmin = int(obj['xmin'])\n",
    "    ymin = int(obj['ymin'])\n",
    "    xmax = int(obj['xmax'])\n",
    "    ymax = int(obj['ymax'])\n",
    "    \n",
    "    center_x = (xmin + xmax) / (2 * width)\n",
    "    center_y = (ymin + ymax) / (2 * height)\n",
    "    bbox_width = (xmax - xmin) / width\n",
    "    bbox_height = (ymax - ymin) / height\n",
    "    \n",
    "    t = '0'\n",
    "    if name == 'without_mask':\n",
    "        t = '0'\n",
    "    elif name == 'with_mask':\n",
    "        t = '1'\n",
    "    else:\n",
    "        t = '2'\n",
    "        \n",
    "    txt_file = xml_file.split('.')[0] + '.txt'    \n",
    "    data.append([t, ' ', str(center_x), ' ', str(center_y), ' ', str(bbox_width), ' ', str(bbox_height)])\n",
    "   \n",
    "\n",
    "\n",
    "print(data)\n",
    "    \n"
   ]
  },
  {
   "cell_type": "code",
   "execution_count": 1,
   "id": "aa2f7263",
   "metadata": {},
   "outputs": [
    {
     "name": "stderr",
     "output_type": "stream",
     "text": [
      "Ultralytics YOLOv8.0.34  Python-3.9.12 torch-1.13.1+cpu CPU\n",
      "Model summary (fused): 168 layers, 3006233 parameters, 0 gradients, 8.1 GFLOPs\n",
      "\n",
      "image 1/1 D:\\ngocson1042002.github.io\\img\\img1.jpg: 640x544 2 WithMasks, 359.9ms\n",
      "Speed: 2.9ms pre-process, 359.9ms inference, 15.6ms postprocess per image at shape (1, 3, 640, 640)\n"
     ]
    }
   ],
   "source": [
    "from ultralytics import YOLO\n",
    "\n",
    "# Load model after training\n",
    "model = YOLO(\"D:\\\\FaceMaskDetection_Yolov8\\weights\\\\best.pt\")\n",
    "results = model.predict(source=\"D:\\\\ngocson1042002.github.io\\\\img\\\\img1.jpg\")  # predict on an image\n"
   ]
  },
  {
   "cell_type": "code",
   "execution_count": 6,
   "id": "8af9817c",
   "metadata": {},
   "outputs": [],
   "source": [
    "import torch"
   ]
  },
  {
   "cell_type": "code",
   "execution_count": 8,
   "id": "52c63362",
   "metadata": {},
   "outputs": [
    {
     "ename": "AttributeError",
     "evalue": "'Tensor' object has no attribute 'ouput'",
     "output_type": "error",
     "traceback": [
      "\u001b[1;31m---------------------------------------------------------------------------\u001b[0m",
      "\u001b[1;31mAttributeError\u001b[0m                            Traceback (most recent call last)",
      "Input \u001b[1;32mIn [8]\u001b[0m, in \u001b[0;36m<cell line: 1>\u001b[1;34m()\u001b[0m\n\u001b[1;32m----> 1\u001b[0m \u001b[43mresults\u001b[49m\u001b[43m[\u001b[49m\u001b[38;5;241;43m0\u001b[39;49m\u001b[43m]\u001b[49m\u001b[38;5;241;43m.\u001b[39;49m\u001b[43mboxes\u001b[49m\u001b[38;5;241;43m.\u001b[39;49m\u001b[43mboxes\u001b[49m\u001b[38;5;241;43m.\u001b[39;49m\u001b[43mouput\u001b[49m()\n",
      "\u001b[1;31mAttributeError\u001b[0m: 'Tensor' object has no attribute 'ouput'"
     ]
    }
   ],
   "source": [
    "results[0].boxes.boxes"
   ]
  },
  {
   "cell_type": "code",
   "execution_count": 24,
   "id": "dccbb470",
   "metadata": {},
   "outputs": [
    {
     "ename": "TypeError",
     "evalue": "getattr expected at least 2 arguments, got 1",
     "output_type": "error",
     "traceback": [
      "\u001b[1;31m---------------------------------------------------------------------------\u001b[0m",
      "\u001b[1;31mTypeError\u001b[0m                                 Traceback (most recent call last)",
      "Input \u001b[1;32mIn [24]\u001b[0m, in \u001b[0;36m<cell line: 1>\u001b[1;34m()\u001b[0m\n\u001b[1;32m----> 1\u001b[0m \u001b[38;5;28;43mgetattr\u001b[39;49m\u001b[43m(\u001b[49m\u001b[43mresults\u001b[49m\u001b[43m[\u001b[49m\u001b[38;5;241;43m0\u001b[39;49m\u001b[43m]\u001b[49m\u001b[38;5;241;43m.\u001b[39;49m\u001b[43mcomp\u001b[49m\u001b[43m[\u001b[49m\u001b[38;5;241;43m0\u001b[39;49m\u001b[43m]\u001b[49m\u001b[43m)\u001b[49m\n",
      "\u001b[1;31mTypeError\u001b[0m: getattr expected at least 2 arguments, got 1"
     ]
    }
   ],
   "source": [
    "getattr(results[0].comp[0])"
   ]
  }
 ],
 "metadata": {
  "kernelspec": {
   "display_name": "Python 3 (ipykernel)",
   "language": "python",
   "name": "python3"
  },
  "language_info": {
   "codemirror_mode": {
    "name": "ipython",
    "version": 3
   },
   "file_extension": ".py",
   "mimetype": "text/x-python",
   "name": "python",
   "nbconvert_exporter": "python",
   "pygments_lexer": "ipython3",
   "version": "3.9.12"
  }
 },
 "nbformat": 4,
 "nbformat_minor": 5
}
